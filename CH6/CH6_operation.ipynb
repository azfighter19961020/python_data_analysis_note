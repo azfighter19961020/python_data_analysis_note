{
 "cells": [
  {
   "cell_type": "markdown",
   "metadata": {},
   "source": [
    "# 第六章操作題\n",
    "\n",
    "1. 導入iris數據集,並劃分訓練集.測試集\n",
    "2. 對iris數據集使用PCA降維,把現有的4維降到3維\n",
    "3. 使用SVM對iris數據集進行分類,並評價"
   ]
  },
  {
   "cell_type": "code",
   "execution_count": 2,
   "metadata": {},
   "outputs": [],
   "source": [
    "#導入數據\n",
    "from sklearn.datasets import load_iris\n",
    "iris=load_iris()"
   ]
  },
  {
   "cell_type": "code",
   "execution_count": 3,
   "metadata": {},
   "outputs": [],
   "source": [
    "#提取數據\n",
    "irisData=iris['data']\n",
    "irisTarget=iris['target']\n",
    "irisNames=iris['feature_names']"
   ]
  },
  {
   "cell_type": "code",
   "execution_count": 9,
   "metadata": {},
   "outputs": [],
   "source": [
    "#劃分訓練.測試集\n",
    "from sklearn.model_selection import train_test_split\n",
    "irisDataTrain,irisDataTest, \\\n",
    "irisTargetTrain,irisTargetTest= \\\n",
    "train_test_split(irisData,irisTarget,test_size=0.2,random_state=42)"
   ]
  },
  {
   "cell_type": "code",
   "execution_count": 10,
   "metadata": {},
   "outputs": [],
   "source": [
    "#PCA降維\n",
    "from sklearn.decomposition import PCA\n",
    "pca_model=PCA(n_components=3).fit(irisDataTrain)\n",
    "irisDataTrainPCA=pca_model.transform(irisDataTrain)\n",
    "irisDataTestPCA=pca_model.transform(irisDataTest)"
   ]
  },
  {
   "cell_type": "code",
   "execution_count": 11,
   "metadata": {},
   "outputs": [],
   "source": [
    "#離差標準化數據\n",
    "from sklearn.preprocessing import MinMaxScaler\n",
    "scale=MinMaxScaler().fit(irisDataTrainPCA)\n",
    "irisDataTrainScaler=scale.transform(irisDataTrainPCA)\n",
    "irisDataTestScaler=scale.transform(irisDataTestPCA)"
   ]
  },
  {
   "cell_type": "code",
   "execution_count": 12,
   "metadata": {},
   "outputs": [
    {
     "name": "stderr",
     "output_type": "stream",
     "text": [
      "c:\\users\\az11438\\appdata\\local\\programs\\python\\python37-32\\lib\\site-packages\\sklearn\\svm\\base.py:196: FutureWarning: The default value of gamma will change from 'auto' to 'scale' in version 0.22 to account better for unscaled features. Set gamma explicitly to 'auto' or 'scale' to avoid this warning.\n",
      "  \"avoid this warning.\", FutureWarning)\n"
     ]
    }
   ],
   "source": [
    "#創建SVM模型\n",
    "from sklearn.svm import SVC\n",
    "svm=SVC().fit(irisDataTrainScaler,irisTargetTrain)"
   ]
  },
  {
   "cell_type": "code",
   "execution_count": 15,
   "metadata": {},
   "outputs": [],
   "source": [
    "#預測測試集結果\n",
    "irisTargetPre=svm.predict(irisDataTestPCA)"
   ]
  },
  {
   "cell_type": "code",
   "execution_count": 18,
   "metadata": {},
   "outputs": [
    {
     "name": "stdout",
     "output_type": "stream",
     "text": [
      "預測對的結果數目為: 27\n",
      "預測錯的結果數目為: 3\n",
      "預測結果準確率為: 0.9\n"
     ]
    }
   ],
   "source": [
    "#求與真實相同的數目\n",
    "import numpy as np\n",
    "true=np.sum(irisTargetPre==irisTargetTest)\n",
    "print('預測對的結果數目為:',true)\n",
    "print('預測錯的結果數目為:',irisTargetTest.shape[0]-true)\n",
    "print('預測結果準確率為:',true/irisTargetTest.shape[0])"
   ]
  },
  {
   "cell_type": "code",
   "execution_count": null,
   "metadata": {},
   "outputs": [],
   "source": []
  }
 ],
 "metadata": {
  "kernelspec": {
   "display_name": "Python 3",
   "language": "python",
   "name": "python3"
  },
  "language_info": {
   "codemirror_mode": {
    "name": "ipython",
    "version": 3
   },
   "file_extension": ".py",
   "mimetype": "text/x-python",
   "name": "python",
   "nbconvert_exporter": "python",
   "pygments_lexer": "ipython3",
   "version": "3.7.1"
  }
 },
 "nbformat": 4,
 "nbformat_minor": 2
}
