{
 "cells": [
  {
   "cell_type": "markdown",
   "metadata": {},
   "source": [
    "# 第五章實訓\n",
    "\n",
    "## 實訓一 插補用戶用電量數據缺失值\n",
    "\n",
    "- 需求說明\n",
    ">\n",
    ">missing_data.csv表中存放了用戶A.B.C的用電量數據\n",
    ">\n",
    ">存在缺失值,需進行缺失值差補才能進行下一步分析\n",
    "\n",
    "- 實現步驟\n",
    "  1. 讀取missing_data.csv表中的數據\n",
    "  2. 查詢缺失值所在位置\n",
    "  3. 使用Scipy庫中interpolate模塊中的lagrange進行拉格朗日插值\n",
    "  4. 查看數據中是否存在缺失值,不存在則說明插值成功"
   ]
  },
  {
   "cell_type": "code",
   "execution_count": 2,
   "metadata": {},
   "outputs": [],
   "source": [
    "#導入數據庫\n",
    "import numpy as np\n",
    "import pandas as pd\n",
    "import scipy.interpolate as itp"
   ]
  },
  {
   "cell_type": "code",
   "execution_count": 6,
   "metadata": {},
   "outputs": [],
   "source": [
    "#讀取missing_data.csv\n",
    "md=pd.read_excel('./missing_data.xls',header=None)"
   ]
  },
  {
   "cell_type": "code",
   "execution_count": 7,
   "metadata": {},
   "outputs": [
    {
     "name": "stdout",
     "output_type": "stream",
     "text": [
      "每個特徵缺失的位置為:\n",
      "         0      1      2\n",
      "0   False  False  False\n",
      "1   False  False  False\n",
      "2   False  False  False\n",
      "3   False   True  False\n",
      "4   False  False   True\n",
      "5    True  False  False\n",
      "6   False  False  False\n",
      "7   False  False   True\n",
      "8   False  False  False\n",
      "9   False  False  False\n",
      "10  False   True   True\n",
      "11  False  False  False\n",
      "12   True  False  False\n",
      "13  False  False  False\n",
      "14  False  False  False\n",
      "15  False  False  False\n",
      "16  False  False   True\n",
      "17  False  False  False\n",
      "18  False  False  False\n",
      "19  False   True  False\n",
      "20  False   True  False\n"
     ]
    }
   ],
   "source": [
    "#查詢缺失值所在位置\n",
    "print('每個特徵缺失的位置為:\\n',md.isnull())"
   ]
  },
  {
   "cell_type": "code",
   "execution_count": 8,
   "metadata": {},
   "outputs": [],
   "source": [
    "#進行拉格朗日插值\n",
    "\n",
    "#定義函數\n",
    "def polyinterp_columns(s,n,k=5): #s為列,n為缺值位置,k為取前後5個數據\n",
    "    y = s[list(range(n-k, n)) + list(range(n+1, n+1+k))] #取數並轉換為列表\n",
    "    y = y[y.notnull()] #剔除空值\n",
    "    return itp.lagrange(y.index,list(y))(n)\n",
    "\n",
    "#判斷元素是否為空並插值\n",
    "for i in md.columns:\n",
    "    for j in range(len(md)):\n",
    "        if (md[i].isnull())[j]:\n",
    "            md[i][j]=polyinterp_columns(md[i],j)"
   ]
  },
  {
   "cell_type": "code",
   "execution_count": 9,
   "metadata": {},
   "outputs": [
    {
     "name": "stdout",
     "output_type": "stream",
     "text": [
      "進行拉格朗日插值後的缺失位置為:\n",
      "         0      1      2\n",
      "0   False  False  False\n",
      "1   False  False  False\n",
      "2   False  False  False\n",
      "3   False  False  False\n",
      "4   False  False  False\n",
      "5   False  False  False\n",
      "6   False  False  False\n",
      "7   False  False  False\n",
      "8   False  False  False\n",
      "9   False  False  False\n",
      "10  False  False  False\n",
      "11  False  False  False\n",
      "12  False  False  False\n",
      "13  False  False  False\n",
      "14  False  False  False\n",
      "15  False  False  False\n",
      "16  False  False  False\n",
      "17  False  False  False\n",
      "18  False  False  False\n",
      "19  False  False  False\n",
      "20  False  False  False\n"
     ]
    }
   ],
   "source": [
    "print('進行拉格朗日插值後的缺失位置為:\\n',md.isnull())"
   ]
  },
  {
   "cell_type": "markdown",
   "metadata": {},
   "source": [
    "## 實訓二 合併線損.用電量趨勢與線路告警數據\n",
    "\n",
    "- 需求說明\n",
    ">\n",
    ">線路線損數據.線路用電量趨勢下降數據和線路告警數據是識別用戶竊漏電與否的3個重要特徵\n",
    ">\n",
    ">需要對由線路編號(ID)和時間(Date)兩個鍵值構成的主鍵進行合併\n",
    ">\n",
    "\n",
    "- 實現步驟\n",
    "  1. 讀取ele_loss.csv與alarm.csv表\n",
    "  2. 查看兩表形狀\n",
    "  3. 以ID和Date兩個鍵值作為主鍵進行內連接\n",
    "  4. 查看合併後的數據"
   ]
  },
  {
   "cell_type": "code",
   "execution_count": 10,
   "metadata": {},
   "outputs": [],
   "source": [
    "#導入數據\n",
    "eleloss=pd.read_csv('./ele_loss.csv',encoding='gbk')\n",
    "alarm=pd.read_csv('./alarm.csv',encoding='gbk')"
   ]
  },
  {
   "cell_type": "code",
   "execution_count": 12,
   "metadata": {},
   "outputs": [
    {
     "name": "stdout",
     "output_type": "stream",
     "text": [
      "線損用電量趨勢表的列為: Index(['ID', 'date', 'ele', 'loss'], dtype='object')\n",
      "告警表的列為: Index(['ID', 'date', 'alarm'], dtype='object')\n"
     ]
    }
   ],
   "source": [
    "#觀察兩表之列\n",
    "print('線損用電量趨勢表的列為:',eleloss.columns)\n",
    "print('告警表的列為:',alarm.columns)"
   ]
  },
  {
   "cell_type": "code",
   "execution_count": 14,
   "metadata": {},
   "outputs": [
    {
     "name": "stdout",
     "output_type": "stream",
     "text": [
      "線損用電量趨勢表的形狀為: (49, 4)\n",
      "告警表的形狀為: (25, 3)\n"
     ]
    }
   ],
   "source": [
    "#觀察兩表形狀\n",
    "print('線損用電量趨勢表的形狀為:',eleloss.shape)\n",
    "print('告警表的形狀為:',alarm.shape)"
   ]
  },
  {
   "cell_type": "code",
   "execution_count": 17,
   "metadata": {},
   "outputs": [],
   "source": [
    "#合併兩表\n",
    "eleDetail=pd.merge(eleloss,alarm,on=['ID','date'],how='inner')"
   ]
  },
  {
   "cell_type": "code",
   "execution_count": 22,
   "metadata": {},
   "outputs": [
    {
     "name": "stdout",
     "output_type": "stream",
     "text": [
      "合併後的數據為:\n",
      "          ID       date    ele      loss    alarm\n",
      "0  21261001   2010/9/3  858.0  0.151048    电流不平衡\n",
      "1  21261001   2010/9/6  883.5  0.162778  C相电流过负荷\n",
      "2  21261001  2010/9/16  915.5  0.162028  C相电流过负荷\n",
      "3  21261001  2010/9/16  915.5  0.162028  C相电流过负荷\n",
      "4  21261001  2010/9/17  961.0  0.166650  A相电流过负荷\n",
      "5  21261001  2010/9/17  961.0  0.166650    电流不平衡\n"
     ]
    }
   ],
   "source": [
    "#查看數據\n",
    "print('合併後的數據為:\\n',eleDetail)"
   ]
  },
  {
   "cell_type": "markdown",
   "metadata": {},
   "source": [
    "## 實訓三 標準化建模專家樣本數據\n",
    "\n",
    "- 需求說明\n",
    ">\n",
    ">兌現路線損特徵.線路用電量趨勢下降特徵.線路告警特徵進行標準化\n",
    ">\n",
    "\n",
    "- 實現步驟\n",
    "  1. 讀取model.xls數據\n",
    "  2. 定義標準差標準化函數\n",
    "  3. 使用函數分別對3列數據進行標準化\n",
    "  4. 查看標準化後的數據"
   ]
  },
  {
   "cell_type": "code",
   "execution_count": 23,
   "metadata": {},
   "outputs": [],
   "source": [
    "#導入數據\n",
    "model=pd.read_excel('./model.xls')"
   ]
  },
  {
   "cell_type": "code",
   "execution_count": 24,
   "metadata": {},
   "outputs": [
    {
     "name": "stdout",
     "output_type": "stream",
     "text": [
      "Index(['电量趋势下降指标', '线损指标', '告警类指标', '是否窃漏电'], dtype='object')\n"
     ]
    }
   ],
   "source": [
    "#查看dataframe的columns\n",
    "print(model.columns)"
   ]
  },
  {
   "cell_type": "code",
   "execution_count": 25,
   "metadata": {},
   "outputs": [],
   "source": [
    "#定義標準差標準化函數\n",
    "def StandardScaler(data):\n",
    "    data=(data-data.mean())/data.std()\n",
    "    return data"
   ]
  },
  {
   "cell_type": "code",
   "execution_count": 33,
   "metadata": {},
   "outputs": [],
   "source": [
    "#切出五列的數據\n",
    "modelslice=model.iloc[:5,:]\n",
    "#引用函數\n",
    "transdata=StandardScaler(modelslice)"
   ]
  },
  {
   "cell_type": "code",
   "execution_count": 34,
   "metadata": {},
   "outputs": [
    {
     "name": "stdout",
     "output_type": "stream",
     "text": [
      "   电量趋势下降指标      线损指标     告警类指标     是否窃漏电\n",
      "0 -0.148047  0.730297 -0.121716  0.730297\n",
      "1 -0.148047 -1.095445  1.704026  0.730297\n",
      "2 -0.888280  0.730297 -0.121716  0.730297\n",
      "3  1.702536 -1.095445 -0.730297 -1.095445\n",
      "4 -0.518163  0.730297 -0.730297 -1.095445\n"
     ]
    }
   ],
   "source": [
    "print(transdata)"
   ]
  },
  {
   "cell_type": "code",
   "execution_count": null,
   "metadata": {},
   "outputs": [],
   "source": []
  }
 ],
 "metadata": {
  "kernelspec": {
   "display_name": "Python 3",
   "language": "python",
   "name": "python3"
  },
  "language_info": {
   "codemirror_mode": {
    "name": "ipython",
    "version": 3
   },
   "file_extension": ".py",
   "mimetype": "text/x-python",
   "name": "python",
   "nbconvert_exporter": "python",
   "pygments_lexer": "ipython3",
   "version": "3.7.1"
  }
 },
 "nbformat": 4,
 "nbformat_minor": 2
}
