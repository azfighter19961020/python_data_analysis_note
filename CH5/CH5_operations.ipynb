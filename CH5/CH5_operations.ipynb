{
 "cells": [
  {
   "cell_type": "markdown",
   "metadata": {},
   "source": [
    "# 第五章操作題\n",
    "\n",
    "## 操作一\n",
    ">\n",
    ">使用以下方法規範化數組:200,300,400,600,1000\n",
    ">\n",
    " - 令min=0,max=1,進行最小-最大規範化\n",
    " - 標準差標準化\n",
    " - 小數定標規範化"
   ]
  },
  {
   "cell_type": "code",
   "execution_count": 1,
   "metadata": {},
   "outputs": [],
   "source": [
    "#導入數據庫\n",
    "import numpy as np"
   ]
  },
  {
   "cell_type": "code",
   "execution_count": 5,
   "metadata": {},
   "outputs": [
    {
     "name": "stdout",
     "output_type": "stream",
     "text": [
      "創建的數組為: [ 200  300  400  600 1000]\n"
     ]
    }
   ],
   "source": [
    "#創建數組\n",
    "arr=np.array([200,300,400,600,1000])\n",
    "print('創建的數組為:',arr)"
   ]
  },
  {
   "cell_type": "code",
   "execution_count": 9,
   "metadata": {},
   "outputs": [],
   "source": [
    "#自定義最小-最大規範化函數\n",
    "def MinMaxScale(data):\n",
    "    data=(data-np.min(data))/(np.max(data)-np.min(data))\n",
    "    return data"
   ]
  },
  {
   "cell_type": "code",
   "execution_count": 10,
   "metadata": {},
   "outputs": [
    {
     "name": "stdout",
     "output_type": "stream",
     "text": [
      "進行最小-最大規範化後的數組為:\n",
      " [0.    0.125 0.25  0.5   1.   ]\n"
     ]
    }
   ],
   "source": [
    "minmaxarr=MinMaxScale(arr)\n",
    "print('進行最小-最大規範化後的數組為:\\n',minmaxarr)"
   ]
  },
  {
   "cell_type": "code",
   "execution_count": 11,
   "metadata": {},
   "outputs": [],
   "source": [
    "#自定義標準差規範化函數\n",
    "def StandardScale(data):\n",
    "    data=(data-np.mean(data))/np.std(data)\n",
    "    return data"
   ]
  },
  {
   "cell_type": "code",
   "execution_count": 12,
   "metadata": {},
   "outputs": [
    {
     "name": "stdout",
     "output_type": "stream",
     "text": [
      "進行標準差標準化後的數組為:\n",
      " [-1.06066017 -0.70710678 -0.35355339  0.35355339  1.76776695]\n"
     ]
    }
   ],
   "source": [
    "standardarr=StandardScale(arr)\n",
    "print('進行標準差標準化後的數組為:\\n',standardarr)"
   ]
  },
  {
   "cell_type": "code",
   "execution_count": 15,
   "metadata": {},
   "outputs": [],
   "source": [
    "#自定義小數定標標準化函數\n",
    "def DecimalScaler(data):\n",
    "    data=data/10**np.ceil(np.log10(np.max(np.abs(data))))\n",
    "    return data"
   ]
  },
  {
   "cell_type": "code",
   "execution_count": 16,
   "metadata": {},
   "outputs": [
    {
     "name": "stdout",
     "output_type": "stream",
     "text": [
      "進行小數定標標準化後的數組為:\n",
      " [0.2 0.3 0.4 0.6 1. ]\n"
     ]
    }
   ],
   "source": [
    "decimalarr=DecimalScaler(arr)\n",
    "print('進行小數定標標準化後的數組為:\\n',decimalarr)"
   ]
  },
  {
   "cell_type": "markdown",
   "metadata": {},
   "source": [
    "## 操作二\n",
    "\n",
    ">假設12個銷售價格紀錄已經排序:\n",
    ">\n",
    ">5,10,11,13,15,35,50,55,72,92,204,215\n",
    ">\n",
    ">使用等寬法對其進行離散化處理"
   ]
  },
  {
   "cell_type": "code",
   "execution_count": 17,
   "metadata": {},
   "outputs": [],
   "source": [
    "#導入數據庫\n",
    "import pandas as pd"
   ]
  },
  {
   "cell_type": "code",
   "execution_count": 18,
   "metadata": {},
   "outputs": [
    {
     "name": "stdout",
     "output_type": "stream",
     "text": [
      "銷售價格紀錄為: [  5  10  11  13  15  35  50  55  72  92 204 215]\n"
     ]
    }
   ],
   "source": [
    "#創建數組\n",
    "price=np.array([5,10,11,13,15,35,50,55,72,92,204,215])\n",
    "print('銷售價格紀錄為:',price)"
   ]
  },
  {
   "cell_type": "code",
   "execution_count": 24,
   "metadata": {},
   "outputs": [
    {
     "name": "stdout",
     "output_type": "stream",
     "text": [
      "等寬離散化的價格紀錄為:\n",
      " 0       (4.79, 75.0]\n",
      "1       (4.79, 75.0]\n",
      "2       (4.79, 75.0]\n",
      "3       (4.79, 75.0]\n",
      "4       (4.79, 75.0]\n",
      "5       (4.79, 75.0]\n",
      "6       (4.79, 75.0]\n",
      "7       (4.79, 75.0]\n",
      "8       (4.79, 75.0]\n",
      "9      (75.0, 145.0]\n",
      "10    (145.0, 215.0]\n",
      "11    (145.0, 215.0]\n",
      "dtype: category\n",
      "Categories (3, interval[float64]): [(4.79, 75.0] < (75.0, 145.0] < (145.0, 215.0]]\n"
     ]
    }
   ],
   "source": [
    "#使用等寬法進行離散化處理\n",
    "pricepd=pd.Series(price)\n",
    "newarr=pd.cut(pricepd,3)\n",
    "print('等寬離散化的價格紀錄為:\\n',newarr)"
   ]
  },
  {
   "cell_type": "markdown",
   "metadata": {},
   "source": [
    "## 操作題三\n",
    "\n",
    ">\n",
    ">自定義一個能夠自動實現數據去重,缺失值中位數填補的函數\n",
    ">"
   ]
  },
  {
   "cell_type": "code",
   "execution_count": 35,
   "metadata": {},
   "outputs": [],
   "source": [
    "#自定義函數\n",
    "def automatic(data):\n",
    "    data.drop_duplicates(inplace=True)\n",
    "    data.fillna(value=data.median(),inplace=True)\n",
    "    return data"
   ]
  },
  {
   "cell_type": "code",
   "execution_count": 36,
   "metadata": {},
   "outputs": [
    {
     "name": "stdout",
     "output_type": "stream",
     "text": [
      "使用函數前的dataframe為:\n",
      " 0     1.0\n",
      "1     1.0\n",
      "2     2.0\n",
      "3     3.0\n",
      "4     NaN\n",
      "5     4.0\n",
      "6     4.0\n",
      "7     5.0\n",
      "8     6.0\n",
      "9     7.0\n",
      "10    NaN\n",
      "11    8.0\n",
      "12    9.0\n",
      "dtype: float64\n",
      "使用函數後的dataframe為:\n",
      " 0     1.0\n",
      "2     2.0\n",
      "3     3.0\n",
      "4     5.0\n",
      "5     4.0\n",
      "7     5.0\n",
      "8     6.0\n",
      "9     7.0\n",
      "11    8.0\n",
      "12    9.0\n",
      "dtype: float64\n"
     ]
    }
   ],
   "source": [
    "#測試\n",
    "test=np.array([1,1,2,3,np.nan,4,4,5,6,7,np.nan,8,9])\n",
    "test2=pd.Series(test)\n",
    "print('使用函數前的dataframe為:\\n',test2)\n",
    "test3=automatic(test2)\n",
    "print('使用函數後的dataframe為:\\n',test3)"
   ]
  },
  {
   "cell_type": "code",
   "execution_count": null,
   "metadata": {},
   "outputs": [],
   "source": []
  }
 ],
 "metadata": {
  "kernelspec": {
   "display_name": "Python 3",
   "language": "python",
   "name": "python3"
  },
  "language_info": {
   "codemirror_mode": {
    "name": "ipython",
    "version": 3
   },
   "file_extension": ".py",
   "mimetype": "text/x-python",
   "name": "python",
   "nbconvert_exporter": "python",
   "pygments_lexer": "ipython3",
   "version": "3.7.1"
  }
 },
 "nbformat": 4,
 "nbformat_minor": 2
}
